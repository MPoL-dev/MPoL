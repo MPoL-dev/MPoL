{
 "cells": [
  {
   "cell_type": "code",
   "execution_count": 1,
   "id": "be59b070",
   "metadata": {
    "execution": {
     "iopub.execute_input": "2023-03-14T02:07:35.318625Z",
     "iopub.status.busy": "2023-03-14T02:07:35.318262Z",
     "iopub.status.idle": "2023-03-14T02:07:35.687867Z",
     "shell.execute_reply": "2023-03-14T02:07:35.687278Z"
    },
    "tags": [
     "hide-cell"
    ]
   },
   "outputs": [],
   "source": [
    "%matplotlib inline\n",
    "%run notebook_setup"
   ]
  },
  {
   "cell_type": "markdown",
   "id": "aa371ead",
   "metadata": {},
   "source": [
    "# Parametric Inference with Pyro\n",
    "\n",
    "In all of the tutorials thus far, we have used MPoL to optimize non-parametric image plane models, i.e., collections of pixels. However, there may be instances where the astrophysical source morphology is simple enough at the resolution of the data such that an investigator might wish to fit a parametric model to the data. In the protoplanetary disk field, there is a long history of parametric model fits to data. The simplest example of this would be an elliptcial Gaussian fit through CASA's [uvmodelfit](https://casadocs.readthedocs.io/en/stable/api/tt/casatasks.manipulation.uvmodelfit.html), while a more complex example might be the [Galario](https://mtazzari.github.io/galario/) package. While non-paramtetric models tend to get all of the attention in this era of Big Data, well-constructed parametric models can still prove useful thanks to their interpretability and role in Bayesian inference.\n",
    "\n",
    "In this tutorial, we will explore how we can use MPoL with a probabilistic programming language called [Pyro](https://pyro.ai/) to perform parametric model fitting with a continuum protoplanetary disk dataset and derive posterior probability distributions of the model parameters. One major advantage of using MPoL + Pyro to do parametric model fitting compared to existing packages is that posterior gradient information is naturally provided by PyTorch's autodifferentiation capabilities. This, coupled with the industry-grade inference algorithms provided by Pyro, makes it computationally efficient to explore posterior probability distributions with dozens or even hundreds of parameters--something that would be impractical using classical MCMC algorithms."
   ]
  },
  {
   "cell_type": "markdown",
   "id": "290b787a",
   "metadata": {},
   "source": [
    "## MPoL and models\n",
    "\n",
    "Before we discuss the specifics of the parametric disk model, let's take a moment to do a high-level review of what a typical MPoL model might look like. \n",
    "\n",
    "### Non-parametric models \n",
    "Let's start by considering the architecture of the simplest possible skeleton non-parametric RML model\n",
    "\n",
    "\n",
    "```{mermaid} ../_static/mmd/src/ImageCube.mmd\n",
    "```\n",
    "\n",
    "When we say that a model is non-parametric we generally mean that the number of parameters of the model is vast (potentially infinite) and can grow to encapsulate more detail if needed. A classic example is something like a spline or a Gaussian process, but in our case we are using a large number of discrete pixel fluxes to represent an image.\n",
    "\n",
    "We can see the definition of the \"non-parametric\" image parameters in the Pytorch layer\n",
    "\n",
    "```\n",
    "self.cube = nn.Parameter(\n",
    "    torch.full(\n",
    "        (self.nchan, self.coords.npix, self.coords.npix),\n",
    "        fill_value=0.0,\n",
    "        requires_grad=True,\n",
    "        dtype=torch.double,\n",
    "    )\n",
    ")\n",
    "```\n",
    "The `nn.Parameter` call tells Pytorch that the `cube` tensor should be varied during optimization of the model. The `cube` tensor is effectively the set of parameters for the \"non-parametric\" model."
   ]
  },
  {
   "cell_type": "markdown",
   "id": "6d3076b2",
   "metadata": {},
   "source": [
    "We can consider the architecture of the {class}`mpol.precomposed.SimpleNet` as a more practical extension \n",
    "\n",
    "\n",
    "```{mermaid} ../_static/mmd/src/SimpleNet.mmd\n",
    "```\n",
    "\n",
    "The functionality of the {class}`mpol.precomposed.SimpleNet` is similar to the skeleton model, but we've shifted the base parameterization from the {class}`mpol.images.ImageCube` to the {class}`mpol.images.BaseCube` (so that pixel flux values are non-negative) and we've included a small convolution kernel (through {class}`mpol.images.HannConvCube`) so that high-spatial-frequency noise is supressed. In this framework, the `nn.Parameter`s are instantiated on the {class}`~mpol.images.BaseCube` and the {class}`~mpol.images.ImageCube` becomes a pass-through layer.\n",
    "\n",
    "In both of these cases, the key functionality provided by the MPoL package is the {class}`mpol.fourier.FourierCube` layer that translates a model image into the visibility plane. From the perspective of the {class}`~mpol.fourier.FourierCube`, it doesn't care how the model image was produced, it will happily translate image pixels into visibility values using the FFT.\n",
    "\n",
    "### Parametric models\n",
    "\n",
    "By contrast to a non-parametric model, a *parametric* model is one that has a (finite) set of parameters (generally decoupled from the size of the data) and can be easily used to make future predictions of the data, usually in a functional form. For example, a cubic function and its coefficients would be considered a parametric model. For a radio astronomy example, you can think of the {class}`~mpol.images.BaseCube` and {class}`mpol.images.HannConvCube` layers as being replaced by a parametric disk model, which we'll call `DiskModel`. This parametric model would specify pixel brightness as a function of position based upon model parameters, and would feed directly into the {class}`~mpol.images.ImageCube` pass-through layer.\n",
    "\n",
    "```{mermaid} ../_static/mmd/src/Parametric.mmd\n",
    "```\n",
    "\n",
    "Before ALMA, it was common in the protoplanetary disk field to fit parametric models (e.g., elliptical Gaussians, one or two axisymmetric rings, etc...) to interferometric observations to derive source properties like size and inclination. The spatial resolution afforded by the ALMA long-baseline campaign rendered many of these simple parametric models inadequate. Suddenly, rich substructure in the forms of rings, gaps, and spirals was visible in dust continuum images and, except for a few exceptions we'll discuss in a second, these morphologies were too complex to neatly capture with simple model parameterizations.\n",
    "\n",
    "This spurred a major shift from parametric, visibility-based analyses to image-based analysis (including our own MPoL efforts). For axisymmetric sources, visibility-based analysis is still viable thanks to the development of novel non-parametric 1D models like [frank](https://discsim.github.io/frank/), which are capable of super-resolution compared to image-based methods like CLEAN.\n",
    "\n",
    "In our opinion, the two (linked) reasons that parametric model fitting has fallen out of favor in the protoplanetary disk field are \n",
    "\n",
    "1. ALMA data are sufficiently high quality that many model parameters are required to accurately describe disk emission\n",
    "2. standard sampling algorithms used for Bayesian inference do not perform well in high dimensional parameter spaces\n",
    "\n",
    "As we hinted at, the MPoL + Pyro + PyTorch framework will help us out on point #2, such that we might be able to explore more detailed models with larger numbers of parameters.\n",
    "\n",
    "This point of this tutorial isn't to say that actually everyone should switch back to using parametric models. But rather, that, with the industry-grade machinery of probabilistic programming languages and autodifferentiation, there may be situations where parametric models are still useful."
   ]
  },
  {
   "cell_type": "markdown",
   "id": "c61885c3",
   "metadata": {},
   "source": [
    "## DSHARP AS 209 dataset\n",
    "\n",
    "For this tutorial we'll use the ALMA DSHARP dust continuum observations of the AS 209 protoplanetary disk. The data reduction is described in [Andrews et al. 2018](https://ui.adsabs.harvard.edu/abs/2018ApJ...869L..41A/abstract) and the primary analysis is described in [Guzmán et al. 2018](https://ui.adsabs.harvard.edu/abs/2018ApJ...869L..48G/abstract).\n",
    "\n",
    "The original measurement sets from the DSHARP program are available in measurement set format from the ALMA project pages (e.g., [NRAO](https://bulk.cv.nrao.edu/almadata/lp/DSHARP/)). To save some boilerplate code and computation time for the purposes of this tutorial, we have extracted the visibilities from this measurement set, performed a few averaging and weight scaling steps, and uploaded the processed dataset to Zenodo. It can be downloaded here. The full set of pre-processing commands are available in the mpoldatasets package. \n",
    "\n",
    "Let's make some diagnostic images, to make sure we've loaded the data correctly.\n",
    "\n",
    "Beam and Dirty image using the DirtyImager. More details in tutorial.\n",
    "\n",
    "In their DSHARP paper, Guzmán et al. 2018 noted the striking azimuthal symmetry of the AS 209 disk. This motivated them to develop and fit a 1D surface brightness profile $I(r)$ using a series of concentric Gaussian rings of the form\n",
    "\n",
    "$$\n",
    "I(r) = \\sum_{i=0}^N A_i \\exp \\left (- \\frac{(r - r_i)^2}{2 \\sigma_i^2} \\right).\n",
    "$$\n",
    "\n",
    "The axisymmetry of the model allowed them to use the Hankel transform to compute the visibility function $\\mathcal{V}$ corresponding to a given $I(r)$. The Hankel transform also plays a key role in non-parametric 1D methods like `frank`. Then, Guzmán et al. 2018 evaluated the probability of the data given the model visibilities using a likelihood function and assigned prior probability distributions to their model parameters. They used the [emcee](https://emcee.readthedocs.io/) MCMC ensemble sampler to sample the posterior distribution of the parameters and thus infer the surface brightness profile $I(r)$. \n",
    "\n",
    "In what follows we will use Pyro and the MPoL framework to implement the same concentric Gaussian ring model as Guzmán et al. 2018 and (hopefully) verify that we obtain the same result. But, we should note that because MPoL uses the 2D FFT to perform the Fourier Transform, we do not need to assume an axisymmetric model. This may be beneficial when fitting disk morphologies that are not purely axisymmetric.\n",
    "\n",
    "## Introduction to Probabilistic Programming Languages\n",
    "\n",
    "Many astronomers traditionally follow an MCMC analysis pathway similar to Guzmán et al. 2018: they write custom code to implement their model, calculate their likelihood function and priors, and then use an MCMC package like `emcee` to sample the posterior. \n",
    "\n",
    "[Probabilistic programming languages](https://en.wikipedia.org/wiki/Probabilistic_programming) (PPLs)\n",
    "are by no means a recent invention, but have in recent years become much more powerful and scientifically capable thanks to the integration of autodifferentiation and advanced sampling methodologies that use gradient information. In our own subfield, we are most familiar with the [exoplanet](https://docs.exoplanet.codes/en/latest/) codebase, built on PyMC3; however, a quick search on ADS demonstrates that probabilistic programming languages have seen greater usage by astronomers in the past decade across a variety of subfields. \n",
    "\n",
    "Simply put, PPLs are frameworks that help users build statistical models and then infer/optimize the parameters of those models conditional on some dataset. PPLs usually have their own learning curve that requires familiarizing oneself with the syntax of the language and the mechanics of building models; once the learning curve is climbed, however, PPLs have the potential to be incredibly powerful inference tools.\n",
    "\n",
    "[Pyro](https://pyro.ai/) is the main PPL built on PyTorch, so that is what we will use in this tutorial. In what follows we'll try to explain the relevant parts of Pyro that you'll need to get started, but a full introduction to Pyro and PPLs is beyond the scope of this tutorial. If you are interested, we recommend you see the following resources: \n",
    "\n",
    "* [Introduction to Pyro](http://pyro.ai/examples/intro_long.html)\n",
    "* [Bayesian Regression - Introduction](http://pyro.ai/examples/bayesian_regression.html)\n",
    "\n",
    "The Pyro [examples](http://pyro.ai/examples/index.html) page and [documentation](https://docs.pyro.ai/en/stable/) have much more information that can help you get started.\n",
    "\n",
    "We also recommend reading Gelman et al. 2020's paper on [Bayesian Workflow](https://arxiv.org/abs/2011.01808). It contains very useful advice on structuring a large and complex Bayesian data analysis problem and will no doubt save you time when constructing your own models.\n",
    "\n",
    "If you are new to Bayesian analysis in general, we recommend that you put this tutorial aside for a moment and review some introductory resources like [Eadie et al. 2023](https://ui.adsabs.harvard.edu/abs/2023arXiv230204703E/abstract) and references therein.\n",
    "\n",
    "\n",
    "## Building a parametric disk model \n",
    "\n",
    "There are many ways to build a Pyro model. In this tutorial we will take a class-based approach and use the [PyroModule](http://pyro.ai/examples/modules.html) construct, but models can just as easily be built using function definitions (for [example](http://pyro.ai/examples/intro_long.html#Models-in-Pyro)).\n",
    "\n",
    "\n",
    "\n",
    "\n",
    "build and heavily comment the disk model, including MPoL geometry routines, deterministic statements\n",
    "\n",
    "## Parameter inference with Stochastic Variational Inference (SVI)\n",
    "run SVI inference loop on GPU\n",
    "analyze samples\n",
    "explore MultiNormal fits to see if posterior changes\n",
    "\n",
    "## Parameter inference with MCMC and Hamiltonian Monte Carlo\n",
    "run HMC loop on GPU and analyze samples\n",
    "show scatter in 1D profile as draws or movie"
   ]
  },
  {
   "cell_type": "code",
   "execution_count": null,
   "id": "5e0f070f",
   "metadata": {},
   "outputs": [],
   "source": []
  }
 ],
 "metadata": {
  "jupytext": {
   "encoding": "# -*- coding: utf-8 -*-"
  },
  "kernelspec": {
   "display_name": "Python 3 (ipykernel)",
   "language": "python",
   "name": "python3"
  },
  "language_info": {
   "codemirror_mode": {
    "name": "ipython",
    "version": 3
   },
   "file_extension": ".py",
   "mimetype": "text/x-python",
   "name": "python",
   "nbconvert_exporter": "python",
   "pygments_lexer": "ipython3",
   "version": "3.9.13"
  }
 },
 "nbformat": 4,
 "nbformat_minor": 5
}
